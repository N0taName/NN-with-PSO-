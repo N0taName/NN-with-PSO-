{
  "nbformat": 4,
  "nbformat_minor": 0,
  "metadata": {
    "colab": {
      "provenance": []
    },
    "kernelspec": {
      "name": "python3",
      "display_name": "Python 3"
    },
    "language_info": {
      "name": "python"
    }
  },
  "cells": [
    {
      "cell_type": "code",
      "execution_count": null,
      "metadata": {
        "id": "4t94f7_Md2_T"
      },
      "outputs": [],
      "source": [
        "import torch\n",
        "import torch.nn as nn\n",
        "import torch.nn.functional as F"
      ]
    },
    {
      "cell_type": "code",
      "source": [
        "model = nn.Sequential(\n",
        "    nn.Linear(256,128),\n",
        "    nn.ReLU(),\n",
        "    nn.Linear(128,64),\n",
        "    nn.ReLU(),\n",
        "    nn.Linear(64,10),\n",
        "    nn.Sigmoid()\n",
        ")"
      ],
      "metadata": {
        "id": "IeeotpKod_lL"
      },
      "execution_count": null,
      "outputs": []
    },
    {
      "cell_type": "code",
      "source": [
        "model = nn.Sequential(\n",
        "    nn.Linear(256,128),\n",
        "    nn.ReLU(),\n",
        "    nn.Linear(128,64),\n",
        "    nn.ReLU(),\n",
        "    nn.Linear(64,10),\n",
        "    nn.Sigmoid()\n",
        ")"
      ],
      "metadata": {
        "id": "UkmpW9KafUsY"
      },
      "execution_count": null,
      "outputs": []
    },
    {
      "cell_type": "code",
      "source": [
        "def create_velocity(model):\n",
        "  velocity = []\n",
        "  for m in model:\n",
        "    if isinstance(m, nn.Linear):\n",
        "      velocity.append(torch.rand_like(m.weight))\n",
        "  return velocity"
      ],
      "metadata": {
        "id": "bhZQkeY37Bny"
      },
      "execution_count": null,
      "outputs": []
    },
    {
      "cell_type": "code",
      "source": [
        "def update_velocity(model,velocity,global_best,local_best,alpha=1,beta=1):\n",
        "  new_velocity = []\n",
        "  j=0\n",
        "  for i in range(len(model)):\n",
        "    if isinstance(model[i], nn.Linear):\n",
        "      new_velocity.append(velocity[j]+alpha*(global_best[i].weight-model[i].weight)+beta*(global_best[i].weight-model[i].weight))\n",
        "      j+=1\n",
        "  return new_velocity"
      ],
      "metadata": {
        "id": "P8tSGoZ_7lOo"
      },
      "execution_count": null,
      "outputs": []
    },
    {
      "cell_type": "code",
      "source": [
        "def update_position(model,velocity):\n",
        "  j=0\n",
        "  for i in range(len(model)):\n",
        "    if isinstance(model[i], nn.Linear):\n",
        "      model[i].weight = nn.Parameter(model[i].weight+velocity[j])\n",
        "      j+=1\n",
        "  return model"
      ],
      "metadata": {
        "id": "YpuTKEcK9b7L"
      },
      "execution_count": null,
      "outputs": []
    },
    {
      "cell_type": "code",
      "source": [
        "def create_particle(model):\n",
        "  new_model = copy.deepcopy(model)\n",
        "  for i in range(len(new_model)):\n",
        "    if isinstance(new_model[i], nn.Linear):\n",
        "      nn.init.uniform(new_model[i].weight,a=-1,b=1)\n",
        "  return new_model"
      ],
      "metadata": {
        "id": "GfAHvyoLDFBh"
      },
      "execution_count": null,
      "outputs": []
    },
    {
      "cell_type": "code",
      "source": [
        "import tqdm\n",
        "import copy\n",
        "import matplotlib\n",
        "from matplotlib import pyplot as plt"
      ],
      "metadata": {
        "id": "HuGZ5seZOJ_7"
      },
      "execution_count": null,
      "outputs": []
    },
    {
      "cell_type": "code",
      "source": [
        "def train(model,metric,data,labels,iterations=100,n_particles=10,alpha=1,beta=1):\n",
        "  particles = [create_particle(model) for _ in range(n_particles)]\n",
        "  global_best = None\n",
        "  global_best_y = None\n",
        "  global_best_hist=[]\n",
        "  local_bests = [None for _ in range(n_particles)]\n",
        "  local_bests_y = [None for _ in range(n_particles)]\n",
        "  velocities = [create_velocity(model) for _ in range(n_particles) ]\n",
        "  for _ in tqdm.tqdm(range(iterations)):\n",
        "    results = [metric(model(data),labels) for _ in range(n_particles)]\n",
        "    for i in range(n_particles):\n",
        "      if global_best_y is None or global_best_y > results[i]:\n",
        "        global_best_y = results[i]\n",
        "        global_best = copy.deepcopy(particles[i])\n",
        "      if local_bests_y[i] is None or local_bests_y[i]> results[i]:\n",
        "        local_bests_y[i] = results[i]\n",
        "        local_bests[i] = copy.deepcopy(particles[i])\n",
        "    for i in range(n_particles):\n",
        "      particles[i] = update_position(particles[i],velocities[i])\n",
        "      velocities[i] = update_velocity(particles[i],velocities[i],global_best,local_bests[i],alpha=alpha,beta=beta)\n",
        "    global_best_hist.append(global_best_y.item())\n",
        "  plt.plot(global_best_hist)\n",
        "  plt.show()\n",
        "  return global_best"
      ],
      "metadata": {
        "id": "5ZToYtuI_PKQ"
      },
      "execution_count": null,
      "outputs": []
    },
    {
      "cell_type": "markdown",
      "source": [
        "Тестирование"
      ],
      "metadata": {
        "id": "BRAVPtpwDkiI"
      }
    },
    {
      "cell_type": "code",
      "source": [
        "import torchvision\n",
        "from torchvision import transforms\n",
        "\n",
        "transform = transforms.Compose(\n",
        "    [\n",
        "      transforms.ToTensor(),\n",
        "      transforms.Normalize((0.5,), (0.5,)),\n",
        "      transforms.ConvertImageDtype(dtype=torch.float32)\n",
        "    ])\n",
        "\n",
        "classes = ('T-shirt/top', 'Trouser', 'Pullover', 'Dress', 'Coat',\n",
        "        'Sandal', 'Shirt', 'Sneaker', 'Bag', 'Ankle Boot')\n",
        "\n",
        "training_set = torchvision.datasets.FashionMNIST('./data', train=True, transform=transform, download=True)\n",
        "validation_set = torchvision.datasets.FashionMNIST('./data', train=False, transform=transform, download=True)"
      ],
      "metadata": {
        "id": "UYkR1rR-S0mZ"
      },
      "execution_count": null,
      "outputs": []
    },
    {
      "cell_type": "code",
      "source": [
        "model = nn.Sequential(\n",
        "    nn.Flatten(),\n",
        "    nn.Linear(28*28,128,dtype=torch.float32),\n",
        "    nn.ReLU(),\n",
        "    nn.Linear(128,64,dtype=torch.float32),\n",
        "    nn.ReLU(),\n",
        "    nn.Linear(64,10,dtype=torch.float32),\n",
        "    nn.Sigmoid()\n",
        ")"
      ],
      "metadata": {
        "id": "ak_eqffNaVVc"
      },
      "execution_count": null,
      "outputs": []
    },
    {
      "cell_type": "code",
      "source": [
        "training_set.data = training_set.data.type(torch.float32)"
      ],
      "metadata": {
        "id": "zLEib-Y13DGs"
      },
      "execution_count": null,
      "outputs": []
    },
    {
      "cell_type": "code",
      "source": [
        "best_model = train(model=model,metric=nn.CrossEntropyLoss(),data=training_set.data,labels=training_set.targets,iterations=100,n_particles=10,alpha=0.5,beta=0.5)"
      ],
      "metadata": {
        "colab": {
          "base_uri": "https://localhost:8080/",
          "height": 482
        },
        "id": "qzFke3bKa6Yt",
        "outputId": "4aefd38f-a9e8-4794-8067-9641c14a5b2b"
      },
      "execution_count": null,
      "outputs": [
        {
          "output_type": "stream",
          "name": "stderr",
          "text": [
            "<ipython-input-7-ca1f55b0045e>:5: UserWarning: nn.init.uniform is now deprecated in favor of nn.init.uniform_.\n",
            "  nn.init.uniform(new_model[i].weight,a=-1,b=1)\n",
            "100%|██████████| 100/100 [05:00<00:00,  3.00s/it]\n"
          ]
        },
        {
          "output_type": "display_data",
          "data": {
            "text/plain": [
              "<Figure size 640x480 with 1 Axes>"
            ],
            "image/png": "[encoded data removed]"
          },
          "metadata": {}
        }
      ]
    },
    {
      "cell_type": "code",
      "source": [
        "validation_set.data = validation_set.data.type(torch.float32)"
      ],
      "metadata": {
        "id": "sLaNNoY56NPN"
      },
      "execution_count": null,
      "outputs": []
    },
    {
      "cell_type": "code",
      "source": [
        "from sklearn import metrics\n",
        "\n",
        "y_pred = best_model(validation_set.data)"
      ],
      "metadata": {
        "id": "98NU9SoCbj6F"
      },
      "execution_count": null,
      "outputs": []
    },
    {
      "cell_type": "code",
      "source": [
        "tmp = [torch.argmax(y_pred[i]) for i in range(len(y_pred))]"
      ],
      "metadata": {
        "id": "u0TYudha7Odi"
      },
      "execution_count": null,
      "outputs": []
    },
    {
      "cell_type": "code",
      "source": [
        "metrics.accuracy_score(validation_set.targets.detach().numpy(),tmp)"
      ],
      "metadata": {
        "colab": {
          "base_uri": "https://localhost:8080/"
        },
        "id": "oyz3HLb66tQv",
        "outputId": "f8faa445-c406-4849-a473-97c19faef3ea"
      },
      "execution_count": null,
      "outputs": [
        {
          "output_type": "execute_result",
          "data": {
            "text/plain": [
              "0.1102"
            ]
          },
          "metadata": {},
          "execution_count": 17
        }
      ]
    },
    {
      "cell_type": "code",
      "source": [
        "nn.CrossEntropyLoss()(y_pred,validation_set.targets).item()"
      ],
      "metadata": {
        "colab": {
          "base_uri": "https://localhost:8080/"
        },
        "id": "wwf2rnzZ7DZx",
        "outputId": "e081ae0e-ea4b-46ac-a9e9-b899d1816340"
      },
      "execution_count": null,
      "outputs": [
        {
          "output_type": "execute_result",
          "data": {
            "text/plain": [
              "2.4397425651550293"
            ]
          },
          "metadata": {},
          "execution_count": 18
        }
      ]
    },
    {
      "cell_type": "code",
      "source": [],
      "metadata": {
        "id": "1m11Rg9t5r1l"
      },
      "execution_count": null,
      "outputs": []
    },
    {
      "cell_type": "code",
      "source": [],
      "metadata": {
        "id": "o_m2X6y29MVE"
      },
      "execution_count": null,
      "outputs": []
    }
  ]
}