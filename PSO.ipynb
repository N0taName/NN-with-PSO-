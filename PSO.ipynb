{
  "nbformat": 4,
  "nbformat_minor": 0,
  "metadata": {
    "colab": {
      "provenance": [],
      "authorship_tag": "ABX9TyOHclV01pAYaoExxCv60udH",
      "include_colab_link": true
    },
    "kernelspec": {
      "name": "python3",
      "display_name": "Python 3"
    },
    "language_info": {
      "name": "python"
    }
  },
  "cells": [
    {
      "cell_type": "markdown",
      "metadata": {
        "id": "view-in-github",
        "colab_type": "text"
      },
      "source": [
        "<a href=\"https://colab.research.google.com/github/N0taName/NN-with-PSO-/blob/main/PSO.ipynb\" target=\"_parent\"><img src=\"https://colab.research.google.com/assets/colab-badge.svg\" alt=\"Open In Colab\"/></a>"
      ]
    },
    {
      "cell_type": "code",
      "source": [
        "! pip install torchmetrics"
      ],
      "metadata": {
        "id": "kDJnbWBdJLeg"
      },
      "execution_count": null,
      "outputs": []
    },
    {
      "cell_type": "code",
      "execution_count": 116,
      "metadata": {
        "id": "4t94f7_Md2_T"
      },
      "outputs": [],
      "source": [
        "import torch\n",
        "import torch.nn as nn\n",
        "import torch.nn.functional as F\n",
        "import tqdm\n",
        "import copy\n",
        "import matplotlib\n",
        "from matplotlib import pyplot as plt\n",
        "import torchmetrics\n",
        "from torchmetrics import Accuracy\n",
        "import numpy as np"
      ]
    },
    {
      "cell_type": "code",
      "source": [
        "def create_velocity(model):\n",
        "  velocity = []\n",
        "  for m in model:\n",
        "    if isinstance(m, nn.Linear):\n",
        "      velocity.append(torch.rand_like(m.weight))\n",
        "  return velocity"
      ],
      "metadata": {
        "id": "bhZQkeY37Bny"
      },
      "execution_count": 117,
      "outputs": []
    },
    {
      "cell_type": "code",
      "source": [
        "def update_velocity(model,velocity,global_best,local_best,alpha=1,beta=1,theta=0.7,rand_seed=42):\n",
        "  new_velocity = []\n",
        "  j=0\n",
        "  for i in range(len(model)):\n",
        "    if isinstance(model[i], nn.Linear):\n",
        "      new_velocity.append(theta*velocity[j]+alpha*np.random.rand()*(global_best[i].weight-model[i].weight)+np.random.rand()*beta*(global_best[i].weight-model[i].weight))\n",
        "      j+=1\n",
        "  return new_velocity"
      ],
      "metadata": {
        "id": "P8tSGoZ_7lOo"
      },
      "execution_count": 118,
      "outputs": []
    },
    {
      "cell_type": "code",
      "source": [
        "def update_position(model,velocity):\n",
        "  j=0\n",
        "  for i in range(len(model)):\n",
        "    if isinstance(model[i], nn.Linear):\n",
        "      model[i].weight = nn.Parameter(model[i].weight+velocity[j])\n",
        "      j+=1\n",
        "  return model"
      ],
      "metadata": {
        "id": "YpuTKEcK9b7L"
      },
      "execution_count": 119,
      "outputs": []
    },
    {
      "cell_type": "code",
      "source": [
        "def create_particle(model):\n",
        "  new_model = copy.deepcopy(model)\n",
        "  for i in range(len(new_model)):\n",
        "    if isinstance(new_model[i], nn.Linear):\n",
        "      nn.init.uniform_(new_model[i].weight,a=-1,b=1)\n",
        "  return new_model"
      ],
      "metadata": {
        "id": "GfAHvyoLDFBh"
      },
      "execution_count": 120,
      "outputs": []
    },
    {
      "cell_type": "code",
      "source": [
        "def train(model,metric,data,labels,iterations=100,n_particles=50,alpha=1,beta=1,theta=0.7,minim=True,rand_seed=42):\n",
        "  np.random.seed(rand_seed)\n",
        "  particles = [create_particle(model) for _ in range(n_particles)]\n",
        "  global_best = None\n",
        "  global_best_y = None\n",
        "  global_best_hist=[]\n",
        "  local_bests = [None for _ in range(n_particles)]\n",
        "  local_bests_y = [None for _ in range(n_particles)]\n",
        "  velocities = [create_velocity(model) for _ in range(n_particles) ]\n",
        "  for _ in tqdm.tqdm(range(iterations)):\n",
        "    results = [metric(particles[i](data),labels).detach().numpy() for i in range(n_particles)]\n",
        "    for i in range(n_particles):\n",
        "      if global_best_y is None or (global_best_y > results[i] and minim) or (global_best_y < results[i] and not minim):\n",
        "        global_best_y = results[i]\n",
        "        global_best = copy.deepcopy(particles[i])\n",
        "      if local_bests_y[i] is None or (local_bests_y[i] > results[i] and minim) or (local_bests_y[i] < results[i] and not minim):\n",
        "        local_bests_y[i] = results[i]\n",
        "        local_bests[i] = copy.deepcopy(particles[i])\n",
        "    for i in range(n_particles):\n",
        "      particles[i] = update_position(particles[i],velocities[i])\n",
        "      velocities[i] = update_velocity(particles[i],velocities[i],global_best,local_bests[i],alpha=alpha,beta=beta,theta=theta)\n",
        "    #print(results)\n",
        "    global_best_hist.append(global_best_y.item())\n",
        "  plt.plot(global_best_hist)\n",
        "  plt.show()\n",
        "  return global_best"
      ],
      "metadata": {
        "id": "5ZToYtuI_PKQ"
      },
      "execution_count": 126,
      "outputs": []
    },
    {
      "cell_type": "markdown",
      "source": [
        "Тестирование"
      ],
      "metadata": {
        "id": "BRAVPtpwDkiI"
      }
    },
    {
      "cell_type": "code",
      "source": [
        "import torchvision\n",
        "from torchvision import transforms\n",
        "\n",
        "transform = transforms.Compose(\n",
        "    [\n",
        "      transforms.ToTensor(),\n",
        "      transforms.Normalize((0.5,), (0.5,)),\n",
        "      transforms.ConvertImageDtype(dtype=torch.float32)\n",
        "    ])\n",
        "\n",
        "classes = ('T-shirt/top', 'Trouser', 'Pullover', 'Dress', 'Coat',\n",
        "        'Sandal', 'Shirt', 'Sneaker', 'Bag', 'Ankle Boot')\n",
        "\n",
        "training_set = torchvision.datasets.FashionMNIST('./data', train=True, transform=transform, download=True)\n",
        "validation_set = torchvision.datasets.FashionMNIST('./data', train=False, transform=transform, download=True)"
      ],
      "metadata": {
        "id": "UYkR1rR-S0mZ"
      },
      "execution_count": 127,
      "outputs": []
    },
    {
      "cell_type": "code",
      "source": [
        "model = nn.Sequential(\n",
        "    nn.Flatten(),\n",
        "    nn.Linear(28*28,10,dtype=torch.float32),\n",
        "    nn.Sigmoid()\n",
        ")"
      ],
      "metadata": {
        "id": "ak_eqffNaVVc"
      },
      "execution_count": 128,
      "outputs": []
    },
    {
      "cell_type": "code",
      "source": [
        "training_set.data = training_set.data.type(torch.float32)"
      ],
      "metadata": {
        "id": "zLEib-Y13DGs"
      },
      "execution_count": 129,
      "outputs": []
    },
    {
      "cell_type": "code",
      "source": [
        "best_model = train(\n",
        "    model=model,\n",
        "    metric=Accuracy(task=\"multiclass\", num_classes=len(classes)),\n",
        "    data=training_set.data,\n",
        "    labels=training_set.targets,\n",
        "    iterations=500,n_particles=20,alpha=4,beta=4,minim=False)"
      ],
      "metadata": {
        "colab": {
          "base_uri": "https://localhost:8080/",
          "height": 447
        },
        "id": "qzFke3bKa6Yt",
        "outputId": "52a1cd32-e6d6-44ef-e665-2e7ab2de03af"
      },
      "execution_count": 130,
      "outputs": [
        {
          "output_type": "stream",
          "name": "stderr",
          "text": [
            "100%|██████████| 500/500 [09:43<00:00,  1.17s/it]\n"
          ]
        },
        {
          "output_type": "display_data",
          "data": {
            "text/plain": [
              "<Figure size 640x480 with 1 Axes>"
            ],
            "image/png": "[encoded data removed]"
          },
          "metadata": {}
        }
      ]
    },
    {
      "cell_type": "code",
      "source": [
        "validation_set.data = validation_set.data.type(torch.float32)"
      ],
      "metadata": {
        "id": "sLaNNoY56NPN"
      },
      "execution_count": 65,
      "outputs": []
    },
    {
      "cell_type": "code",
      "source": [
        "from sklearn import metrics\n",
        "\n",
        "y_pred = best_model(validation_set.data)"
      ],
      "metadata": {
        "id": "98NU9SoCbj6F"
      },
      "execution_count": 67,
      "outputs": []
    },
    {
      "cell_type": "code",
      "source": [
        "1/len(classes)"
      ],
      "metadata": {
        "colab": {
          "base_uri": "https://localhost:8080/"
        },
        "id": "Y5fxJWbaPiZj",
        "outputId": "d269e914-860b-4826-aacf-0a82d2008380"
      },
      "execution_count": 72,
      "outputs": [
        {
          "output_type": "execute_result",
          "data": {
            "text/plain": [
              "0.1"
            ]
          },
          "metadata": {},
          "execution_count": 72
        }
      ]
    },
    {
      "cell_type": "code",
      "source": [],
      "metadata": {
        "colab": {
          "base_uri": "https://localhost:8080/",
          "height": 314
        },
        "id": "KJf7_9L0Ivdr",
        "outputId": "c3467e95-5473-4246-ffcf-7a3172e4cc0b"
      },
      "execution_count": 53,
      "outputs": [
        {
          "output_type": "error",
          "ename": "ModuleNotFoundError",
          "evalue": "No module named 'torchmetrics'",
          "traceback": [
            "\u001b[0;31m---------------------------------------------------------------------------\u001b[0m",
            "\u001b[0;31mModuleNotFoundError\u001b[0m                       Traceback (most recent call last)",
            "\u001b[0;32m<ipython-input-53-821d1cb7075f>\u001b[0m in \u001b[0;36m<cell line: 1>\u001b[0;34m()\u001b[0m\n\u001b[0;32m----> 1\u001b[0;31m \u001b[0;32mimport\u001b[0m \u001b[0mtorchmetrics\u001b[0m\u001b[0;34m\u001b[0m\u001b[0;34m\u001b[0m\u001b[0m\n\u001b[0m",
            "\u001b[0;31mModuleNotFoundError\u001b[0m: No module named 'torchmetrics'",
            "",
            "\u001b[0;31m---------------------------------------------------------------------------\u001b[0;32m\nNOTE: If your import is failing due to a missing package, you can\nmanually install dependencies using either !pip or !apt.\n\nTo view examples of installing some common dependencies, click the\n\"Open Examples\" button below.\n\u001b[0;31m---------------------------------------------------------------------------\u001b[0m\n"
          ],
          "errorDetails": {
            "actions": [
              {
                "action": "open_url",
                "actionText": "Open Examples",
                "url": "/notebooks/snippets/importing_libraries.ipynb"
              }
            ]
          }
        }
      ]
    },
    {
      "cell_type": "code",
      "source": [
        "y_pred"
      ],
      "metadata": {
        "colab": {
          "base_uri": "https://localhost:8080/"
        },
        "id": "XbA-hNwhIVnk",
        "outputId": "9f106343-f7bc-4aa3-cafa-ed57d41640e7"
      },
      "execution_count": 68,
      "outputs": [
        {
          "output_type": "execute_result",
          "data": {
            "text/plain": [
              "tensor([[0., 0., 1.,  ..., 0., 1., 1.],\n",
              "        [0., 0., 1.,  ..., 0., 0., 1.],\n",
              "        [0., 1., 0.,  ..., 0., 1., 0.],\n",
              "        ...,\n",
              "        [0., 0., 1.,  ..., 0., 0., 0.],\n",
              "        [0., 1., 0.,  ..., 0., 1., 0.],\n",
              "        [0., 1., 0.,  ..., 1., 1., 1.]], grad_fn=<SigmoidBackward0>)"
            ]
          },
          "metadata": {},
          "execution_count": 68
        }
      ]
    },
    {
      "cell_type": "code",
      "source": [
        "tmp = [torch.argmax(y_pred[i]) for i in range(len(y_pred))]"
      ],
      "metadata": {
        "id": "u0TYudha7Odi"
      },
      "execution_count": 69,
      "outputs": []
    },
    {
      "cell_type": "code",
      "source": [
        "metrics.accuracy_score(validation_set.targets.detach().numpy(),tmp)"
      ],
      "metadata": {
        "colab": {
          "base_uri": "https://localhost:8080/"
        },
        "id": "oyz3HLb66tQv",
        "outputId": "ce0f25b9-5d7d-4a6d-e700-9fab6ad36846"
      },
      "execution_count": 70,
      "outputs": [
        {
          "output_type": "execute_result",
          "data": {
            "text/plain": [
              "0.171"
            ]
          },
          "metadata": {},
          "execution_count": 70
        }
      ]
    },
    {
      "cell_type": "code",
      "source": [
        "nn.CrossEntropyLoss()(y_pred,validation_set.targets).item()"
      ],
      "metadata": {
        "colab": {
          "base_uri": "https://localhost:8080/"
        },
        "id": "wwf2rnzZ7DZx",
        "outputId": "227acb19-82c4-4507-8219-f4a87280ded1"
      },
      "execution_count": 71,
      "outputs": [
        {
          "output_type": "execute_result",
          "data": {
            "text/plain": [
              "2.263460636138916"
            ]
          },
          "metadata": {},
          "execution_count": 71
        }
      ]
    },
    {
      "cell_type": "markdown",
      "source": [
        "Тестирование на табличных данных"
      ],
      "metadata": {
        "id": "GOOKyK8rbArv"
      }
    },
    {
      "cell_type": "code",
      "source": [],
      "metadata": {
        "id": "1m11Rg9t5r1l"
      },
      "execution_count": null,
      "outputs": []
    },
    {
      "cell_type": "code",
      "source": [],
      "metadata": {
        "id": "o_m2X6y29MVE"
      },
      "execution_count": null,
      "outputs": []
    }
  ]
}